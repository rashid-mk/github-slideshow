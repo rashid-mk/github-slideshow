{
  "nbformat": 4,
  "nbformat_minor": 0,
  "metadata": {
    "colab": {
      "name": "2_p1_python_basics.ipynb",
      "provenance": [],
      "collapsed_sections": [],
      "include_colab_link": true
    },
    "kernelspec": {
      "name": "python3",
      "display_name": "Python 3"
    },
    "language_info": {
      "name": "python"
    }
  },
  "cells": [
    {
      "cell_type": "markdown",
      "metadata": {
        "id": "view-in-github",
        "colab_type": "text"
      },
      "source": [
        "<a href=\"https://colab.research.google.com/github/rsdin/github-slideshow/blob/master/2_p1_python_basics.ipynb\" target=\"_parent\"><img src=\"https://colab.research.google.com/assets/colab-badge.svg\" alt=\"Open In Colab\"/></a>"
      ]
    },
    {
      "cell_type": "markdown",
      "source": [
        "## Reading a string and writing it\n",
        "\n",
        "\n",
        "\n"
      ],
      "metadata": {
        "id": "LRnB-FvKjEWZ"
      }
    },
    {
      "cell_type": "code",
      "execution_count": 3,
      "metadata": {
        "id": "5IyiQ8-cG1R6"
      },
      "outputs": [],
      "source": [
        "hello=\"Hello\"\n",
        "world=\"world\""
      ]
    },
    {
      "cell_type": "code",
      "source": [
        "print(hello)\n",
        "print(world)"
      ],
      "metadata": {
        "colab": {
          "base_uri": "https://localhost:8080/"
        },
        "id": "0k8glyMjiOiC",
        "outputId": "4e8ebe58-c405-42c3-bad6-5b2a3811abeb"
      },
      "execution_count": 2,
      "outputs": [
        {
          "output_type": "stream",
          "name": "stdout",
          "text": [
            "Hello\n",
            "world\n"
          ]
        }
      ]
    },
    {
      "cell_type": "code",
      "source": [
        "hw=hello+' '+world\n",
        "print(hw)"
      ],
      "metadata": {
        "colab": {
          "base_uri": "https://localhost:8080/"
        },
        "id": "vUbPTZabiaHA",
        "outputId": "a115ea10-7150-4725-bed1-43e7dbca6d6f"
      },
      "execution_count": 5,
      "outputs": [
        {
          "output_type": "stream",
          "name": "stdout",
          "text": [
            "Hello world\n"
          ]
        }
      ]
    },
    {
      "cell_type": "code",
      "source": [
        "print('hello world how are you'.split('o'))"
      ],
      "metadata": {
        "colab": {
          "base_uri": "https://localhost:8080/"
        },
        "id": "amilIJT-23tD",
        "outputId": "8ea9ba50-a7d6-490b-fb28-59d7944fb0f9"
      },
      "execution_count": 12,
      "outputs": [
        {
          "output_type": "stream",
          "name": "stdout",
          "text": [
            "['hell', ' w', 'rld h', 'w are y', 'u']\n"
          ]
        }
      ]
    },
    {
      "cell_type": "markdown",
      "source": [
        "## Arithematic Operations"
      ],
      "metadata": {
        "id": "dc8TYQrbjCwi"
      }
    },
    {
      "cell_type": "code",
      "source": [
        "a=4\n",
        "b=5\n",
        "sum=a+b\n",
        "product=a*b\n",
        "print(sum, product)"
      ],
      "metadata": {
        "colab": {
          "base_uri": "https://localhost:8080/"
        },
        "id": "TEeUvjxxipbx",
        "outputId": "4007dc06-42ca-4eca-8907-520783313956"
      },
      "execution_count": 6,
      "outputs": [
        {
          "output_type": "stream",
          "name": "stdout",
          "text": [
            "9 20\n"
          ]
        }
      ]
    },
    {
      "cell_type": "markdown",
      "source": [
        "## Lists"
      ],
      "metadata": {
        "id": "6XW59nvKjvZB"
      }
    },
    {
      "cell_type": "code",
      "source": [
        "xs=[3,1,2]  #create a list\n",
        "print(xs, xs[2])"
      ],
      "metadata": {
        "colab": {
          "base_uri": "https://localhost:8080/"
        },
        "id": "AQGgpOEHjAlg",
        "outputId": "0e815e25-a445-4ae1-827d-ca4df13d7191"
      },
      "execution_count": 7,
      "outputs": [
        {
          "output_type": "stream",
          "name": "stdout",
          "text": [
            "[3, 1, 2] 2\n"
          ]
        }
      ]
    },
    {
      "cell_type": "code",
      "source": [
        "print(xs[-1])"
      ],
      "metadata": {
        "colab": {
          "base_uri": "https://localhost:8080/"
        },
        "id": "-FKK9w5Qj-xx",
        "outputId": "2a680d81-1b05-4f7b-ba92-0ff268cde6a5"
      },
      "execution_count": 8,
      "outputs": [
        {
          "output_type": "stream",
          "name": "stdout",
          "text": [
            "2\n"
          ]
        }
      ]
    },
    {
      "cell_type": "code",
      "source": [
        "xs[1]='GECI'\n",
        "print(xs)"
      ],
      "metadata": {
        "colab": {
          "base_uri": "https://localhost:8080/"
        },
        "id": "8YfTeNUbkEdX",
        "outputId": "366b0374-f470-4526-b384-5b16d9fafd03"
      },
      "execution_count": 10,
      "outputs": [
        {
          "output_type": "stream",
          "name": "stdout",
          "text": [
            "[3, 'GECI', 2, 'idukki']\n"
          ]
        }
      ]
    },
    {
      "cell_type": "code",
      "source": [
        "xs.append('idukki')\n",
        "print(xs)"
      ],
      "metadata": {
        "colab": {
          "base_uri": "https://localhost:8080/"
        },
        "id": "Mz7zqHPBkNB3",
        "outputId": "25a66bd3-51a0-4264-fe6a-a111cfe349b3"
      },
      "execution_count": 9,
      "outputs": [
        {
          "output_type": "stream",
          "name": "stdout",
          "text": [
            "[3, 1, 2, 'idukki']\n"
          ]
        }
      ]
    },
    {
      "cell_type": "code",
      "source": [
        "x=xs.pop()\n",
        "print(xs)\n",
        "print(x)"
      ],
      "metadata": {
        "colab": {
          "base_uri": "https://localhost:8080/"
        },
        "id": "-nkSnCrIkTLv",
        "outputId": "aab42857-71bf-4e23-9b7c-e978a88e3f5b"
      },
      "execution_count": 11,
      "outputs": [
        {
          "output_type": "stream",
          "name": "stdout",
          "text": [
            "[3, 'GECI', 2]\n",
            "idukki\n"
          ]
        }
      ]
    },
    {
      "cell_type": "markdown",
      "source": [
        "## List Slicing"
      ],
      "metadata": {
        "id": "IcaPJeW9knTs"
      }
    },
    {
      "cell_type": "code",
      "source": [
        "nums=list(range(5))\n",
        "# create a list of integers"
      ],
      "metadata": {
        "id": "jaP2xKUwkq5q"
      },
      "execution_count": 13,
      "outputs": []
    },
    {
      "cell_type": "code",
      "source": [
        "print(nums)"
      ],
      "metadata": {
        "colab": {
          "base_uri": "https://localhost:8080/"
        },
        "id": "g7106eUHkdey",
        "outputId": "22396d34-6992-479a-e069-8a81158d3313"
      },
      "execution_count": 14,
      "outputs": [
        {
          "output_type": "stream",
          "name": "stdout",
          "text": [
            "[0, 1, 2, 3, 4]\n"
          ]
        }
      ]
    },
    {
      "cell_type": "code",
      "source": [
        "print(nums[2:4])\n",
        "# slice from index 2 to 4(exclusive)"
      ],
      "metadata": {
        "colab": {
          "base_uri": "https://localhost:8080/"
        },
        "id": "3mND_exlk9PH",
        "outputId": "2628c928-0945-4bc5-ba93-43dd89e1c0b7"
      },
      "execution_count": 15,
      "outputs": [
        {
          "output_type": "stream",
          "name": "stdout",
          "text": [
            "[2, 3]\n"
          ]
        }
      ]
    },
    {
      "cell_type": "code",
      "source": [
        "print(nums[2:])\n",
        "# slice from index 2 to end"
      ],
      "metadata": {
        "colab": {
          "base_uri": "https://localhost:8080/"
        },
        "id": "kdcJCK64lHLP",
        "outputId": "c85a9058-36b9-43a5-ad8f-eb0c3ba75bcf"
      },
      "execution_count": null,
      "outputs": [
        {
          "output_type": "stream",
          "name": "stdout",
          "text": [
            "[2, 3, 4]\n"
          ]
        }
      ]
    },
    {
      "cell_type": "code",
      "source": [
        "print(nums[:])\n",
        "# slice all items in the list"
      ],
      "metadata": {
        "colab": {
          "base_uri": "https://localhost:8080/"
        },
        "id": "zWwYSnfolM0f",
        "outputId": "326456c6-2161-4126-a24d-67ee852ca2a7"
      },
      "execution_count": null,
      "outputs": [
        {
          "output_type": "stream",
          "name": "stdout",
          "text": [
            "[0, 1, 2, 3, 4]\n"
          ]
        }
      ]
    },
    {
      "cell_type": "code",
      "source": [
        "print(nums[:-1])\n",
        "# slice can be negative"
      ],
      "metadata": {
        "colab": {
          "base_uri": "https://localhost:8080/"
        },
        "id": "KvhQQECfle-z",
        "outputId": "55b0629f-d9a7-41d1-af4d-4d1d751803e9"
      },
      "execution_count": null,
      "outputs": [
        {
          "output_type": "stream",
          "name": "stdout",
          "text": [
            "[0, 1, 2, 3]\n"
          ]
        }
      ]
    },
    {
      "cell_type": "code",
      "source": [
        "nums[2:4]=[8,9] #assign a new sublist to a \n",
        "print(nums)"
      ],
      "metadata": {
        "colab": {
          "base_uri": "https://localhost:8080/"
        },
        "id": "3p-0KyBYlxz_",
        "outputId": "cacdfb5c-8dad-4c4e-ab5c-98e525f52a95"
      },
      "execution_count": null,
      "outputs": [
        {
          "output_type": "stream",
          "name": "stdout",
          "text": [
            "[0, 1, 8, 9, 4]\n"
          ]
        }
      ]
    },
    {
      "cell_type": "markdown",
      "source": [
        "#List Comprehension\n",
        "List comprehension offers a shorter syntax when you want to create a new list based on the values of an existing list."
      ],
      "metadata": {
        "id": "6GbpyIHxm5zo"
      }
    },
    {
      "cell_type": "code",
      "source": [
        "nums=list(range(5))\n",
        "print(nums)"
      ],
      "metadata": {
        "colab": {
          "base_uri": "https://localhost:8080/"
        },
        "id": "19aI3VBml-4X",
        "outputId": "2dbc1ac2-861f-4d5c-d1b2-20701adce313"
      },
      "execution_count": null,
      "outputs": [
        {
          "output_type": "stream",
          "name": "stdout",
          "text": [
            "[0, 1, 2, 3, 4]\n"
          ]
        }
      ]
    },
    {
      "cell_type": "code",
      "source": [
        "squares=[]\n",
        "for x in nums:\n",
        "  squares.append(x**2)\n",
        "print(squares)"
      ],
      "metadata": {
        "colab": {
          "base_uri": "https://localhost:8080/"
        },
        "id": "4h1hWkGdmQnP",
        "outputId": "4f0e02ce-99dc-489e-c531-aa64a783fc2d"
      },
      "execution_count": null,
      "outputs": [
        {
          "output_type": "stream",
          "name": "stdout",
          "text": [
            "[0, 1, 4, 9, 16]\n"
          ]
        }
      ]
    },
    {
      "cell_type": "markdown",
      "source": [
        "#Dictionary\n",
        "Dictionaries are used to store data values in key:value pairs."
      ],
      "metadata": {
        "id": "XfI4KARGnxr5"
      }
    },
    {
      "cell_type": "code",
      "source": [
        "d = {\n",
        "  \"brand\": \"Ford\",\n",
        "  \"model\": \"Mustang\",\n",
        "  \"year\": 1964\n",
        "}"
      ],
      "metadata": {
        "id": "d_4nGm0HnWwW"
      },
      "execution_count": null,
      "outputs": []
    },
    {
      "cell_type": "code",
      "source": [
        "print(d)"
      ],
      "metadata": {
        "colab": {
          "base_uri": "https://localhost:8080/"
        },
        "id": "N7U9eBbRn36m",
        "outputId": "4e54a12a-a1fc-4f48-abc5-1326cfb7b111"
      },
      "execution_count": null,
      "outputs": [
        {
          "output_type": "stream",
          "name": "stdout",
          "text": [
            "{'brand': 'Ford', 'model': 'Mustang', 'year': 1964}\n"
          ]
        }
      ]
    },
    {
      "cell_type": "code",
      "source": [
        "print(d['year'])"
      ],
      "metadata": {
        "colab": {
          "base_uri": "https://localhost:8080/"
        },
        "id": "qURXaYqhoBe-",
        "outputId": "e4c87e3c-4ea0-44b6-974c-01b20a97ab0e"
      },
      "execution_count": null,
      "outputs": [
        {
          "output_type": "stream",
          "name": "stdout",
          "text": [
            "1964\n"
          ]
        }
      ]
    },
    {
      "cell_type": "code",
      "source": [
        "d['country']= 'german'\n",
        "print(d)"
      ],
      "metadata": {
        "colab": {
          "base_uri": "https://localhost:8080/"
        },
        "id": "G5xWkPmsoFqN",
        "outputId": "b78ab55a-ed75-457f-8d91-886695f940b0"
      },
      "execution_count": null,
      "outputs": [
        {
          "output_type": "stream",
          "name": "stdout",
          "text": [
            "{'brand': 'Ford', 'model': 'Mustang', 'year': 1964, 'country': 'german'}\n"
          ]
        }
      ]
    },
    {
      "cell_type": "markdown",
      "source": [
        "#Functions"
      ],
      "metadata": {
        "id": "xxNuNr81ojAQ"
      }
    },
    {
      "cell_type": "markdown",
      "source": [
        ""
      ],
      "metadata": {
        "id": "qYy1YYrwvofU"
      }
    },
    {
      "cell_type": "code",
      "source": [
        "def sign(x):\n",
        "  if x>0:\n",
        "    return 'positive'\n",
        "  elif x==0:\n",
        "    return 'zero'\n",
        "  else:\n",
        "    return 'negative'"
      ],
      "metadata": {
        "id": "JJIy-hqVoWNe"
      },
      "execution_count": null,
      "outputs": []
    },
    {
      "cell_type": "code",
      "source": [
        "for x in [-1, 0, 1]:\n",
        "  print(sign(x))"
      ],
      "metadata": {
        "colab": {
          "base_uri": "https://localhost:8080/"
        },
        "id": "H3e3gwZQo5cd",
        "outputId": "a615c123-7c36-4c11-8aeb-a658fbbfc96b"
      },
      "execution_count": null,
      "outputs": [
        {
          "output_type": "stream",
          "name": "stdout",
          "text": [
            "negative\n",
            "zero\n",
            "positive\n"
          ]
        }
      ]
    },
    {
      "cell_type": "markdown",
      "source": [
        "#Class"
      ],
      "metadata": {
        "id": "GhPwi2BXvqhE"
      }
    },
    {
      "cell_type": "code",
      "source": [
        "class greeter(object):\n",
        "  #Constructor\n",
        "  def __init__(self, name):\n",
        "    self.name=name   #create an instance variable\n",
        "  #instance method\n",
        "  def greet(self, loud=False):\n",
        "    if loud:\n",
        "      print('Hello, %s!' %self.name.upper())\n",
        "    else:\n",
        "      print('Hello, %s!' %self.name)\n",
        "      \n"
      ],
      "metadata": {
        "id": "9qA1zTk_pB4N"
      },
      "execution_count": null,
      "outputs": []
    },
    {
      "cell_type": "code",
      "source": [
        "g=greeter('idukki')\n",
        "#Construct an instance of geeter class"
      ],
      "metadata": {
        "id": "_vS4DjZ6yq05"
      },
      "execution_count": null,
      "outputs": []
    },
    {
      "cell_type": "code",
      "source": [
        "g.greet()\n",
        "#call an instance method print \"Hello, idukki\""
      ],
      "metadata": {
        "colab": {
          "base_uri": "https://localhost:8080/"
        },
        "id": "B-lTL8cWy9Ew",
        "outputId": "fe25c927-226e-4a52-a27a-a796f898286c"
      },
      "execution_count": null,
      "outputs": [
        {
          "output_type": "stream",
          "name": "stdout",
          "text": [
            "Hello, idukki!\n"
          ]
        }
      ]
    },
    {
      "cell_type": "code",
      "source": [
        "g.greet(loud=\"True\")"
      ],
      "metadata": {
        "colab": {
          "base_uri": "https://localhost:8080/"
        },
        "id": "_t0B10VYzGgw",
        "outputId": "a2c30e25-4bc6-4c48-8b71-c5363a2e0422"
      },
      "execution_count": null,
      "outputs": [
        {
          "output_type": "stream",
          "name": "stdout",
          "text": [
            "Hello, IDUKKI!\n"
          ]
        }
      ]
    },
    {
      "cell_type": "code",
      "source": [
        ""
      ],
      "metadata": {
        "id": "CIGsWY5izlKP"
      },
      "execution_count": null,
      "outputs": []
    }
  ]
}